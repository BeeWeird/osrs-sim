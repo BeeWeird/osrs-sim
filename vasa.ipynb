{
 "cells": [
  {
   "cell_type": "code",
   "execution_count": 1,
   "metadata": {},
   "outputs": [
    {
     "name": "stdout",
     "output_type": "stream",
     "text": [
      "3.7.3\n"
     ]
    }
   ],
   "source": [
    "from platform import python_version\n",
    "\n",
    "print(python_version())\n",
    "\n",
    "from sim import *\n",
    "from npcs import VasaCrystal3, Npc\n",
    "import matplotlib\n",
    "import matplotlib.pyplot as plt\n",
    "\n",
    "\n",
    "%matplotlib notebook"
   ]
  },
  {
   "cell_type": "code",
   "execution_count": 2,
   "metadata": {},
   "outputs": [],
   "source": [
    "def scytherole(npc):\n",
    "    while True:\n",
    "        yield scythe\n",
    "        \n",
    "def rapierrole(npc):\n",
    "    while True:\n",
    "        yield rapier\n",
    "        \n",
    "def dswordrole(npc):\n",
    "    while True:\n",
    "        yield dsword"
   ]
  },
  {
   "cell_type": "code",
   "execution_count": 3,
   "metadata": {},
   "outputs": [
    {
     "data": {
      "text/plain": [
       "5"
      ]
     },
     "execution_count": 3,
     "metadata": {},
     "output_type": "execute_result"
    }
   ],
   "source": [
    "ticks_to_kill(VasaCrystal3, [scytherole for _ in range(3)])"
   ]
  },
  {
   "cell_type": "code",
   "execution_count": 7,
   "metadata": {},
   "outputs": [],
   "source": [
    "scythe_results = [5+ticks_to_kill(VasaCrystal3, [scytherole for _ in range(3)]) for _ in range(10000)]\n",
    "rapier_results = [4+ticks_to_kill(VasaCrystal3, [rapierrole for _ in range(3)]) for _ in range(10000)]\n",
    "dsword_results = [4+ticks_to_kill(VasaCrystal3, [dswordrole for _ in range(3)]) for _ in range(10000)]"
   ]
  },
  {
   "cell_type": "code",
   "execution_count": 8,
   "metadata": {},
   "outputs": [
    {
     "data": {
      "image/png": "[encoded data removed]",
      "text/plain": [
       "<Figure size 432x288 with 1 Axes>"
      ]
     },
     "metadata": {
      "needs_background": "light"
     },
     "output_type": "display_data"
    }
   ],
   "source": [
    "plt.hist(\n",
    "    [scythe_results, rapier_results, dsword_results], \n",
    "    label=[\"All Scythe\", \"All Rapier\", \"All Dsword\"], \n",
    "    bins=20)\n",
    "plt.xlabel(\"Ticks to Kill\")\n",
    "plt.ylabel(\"Number of Results\")\n",
    "plt.title(\"Ticks to Kill Vasa Crystal with 3 Players\")\n",
    "plt.legend(loc=\"upper right\")\n",
    "plt.show()"
   ]
  },
  {
   "cell_type": "code",
   "execution_count": 9,
   "metadata": {},
   "outputs": [],
   "source": [
    "def print_stats(results, label):\n",
    "    average = sum(results) / len(results)\n",
    "    sorted_results = sorted(results)\n",
    "    median = sorted_results[len(sorted_results) // 2]\n",
    "    print(f\"{label}\\n average kill = {average} ticks, \\n median kill = {median} ticks\")"
   ]
  },
  {
   "cell_type": "code",
   "execution_count": 10,
   "metadata": {},
   "outputs": [
    {
     "name": "stdout",
     "output_type": "stream",
     "text": [
      "Scythe\n",
      " average kill = 19.4965 ticks, \n",
      " median kill = 20 ticks\n",
      "Rapier\n",
      " average kill = 15.2632 ticks, \n",
      " median kill = 16 ticks\n",
      "Dsword\n",
      " average kill = 17.1396 ticks, \n",
      " median kill = 16 ticks\n"
     ]
    }
   ],
   "source": [
    "print_stats(scythe_results, \"Scythe\")\n",
    "print_stats(rapier_results, \"Rapier\")\n",
    "print_stats(dsword_results, \"Dsword\")"
   ]
  },
  {
   "cell_type": "code",
   "execution_count": null,
   "metadata": {},
   "outputs": [],
   "source": []
  }
 ],
 "metadata": {
  "kernelspec": {
   "display_name": "Python 3",
   "language": "python",
   "name": "python3"
  },
  "language_info": {
   "codemirror_mode": {
    "name": "ipython",
    "version": 3
   },
   "file_extension": ".py",
   "mimetype": "text/x-python",
   "name": "python",
   "nbconvert_exporter": "python",
   "pygments_lexer": "ipython3",
   "version": "3.7.3"
  }
 },
 "nbformat": 4,
 "nbformat_minor": 2
}
