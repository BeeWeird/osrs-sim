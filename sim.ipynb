{
 "cells": [
  {
   "cell_type": "code",
   "execution_count": 1,
   "metadata": {},
   "outputs": [
    {
     "name": "stdout",
     "output_type": "stream",
     "text": [
      "3.7.3\n"
     ]
    }
   ],
   "source": [
    "from platform import python_version\n",
    "\n",
    "print(python_version())\n",
    "\n",
    "from sim import *\n",
    "from npcs import Tekton5, Tekton3, Npc\n",
    "import matplotlib\n",
    "import matplotlib.pyplot as plt\n",
    "\n",
    "\n",
    "%matplotlib notebook"
   ]
  },
  {
   "cell_type": "code",
   "execution_count": 2,
   "metadata": {},
   "outputs": [],
   "source": [
    "def ticks_to_kill(npc, players):\n",
    "    i = 0\n",
    "    for _ in run(copy(npc), players):\n",
    "        i += 1\n",
    "    return i"
   ]
  },
  {
   "cell_type": "code",
   "execution_count": 3,
   "metadata": {},
   "outputs": [
    {
     "data": {
      "text/plain": [
       "29"
      ]
     },
     "execution_count": 3,
     "metadata": {},
     "output_type": "execute_result"
    }
   ],
   "source": [
    "ticks_to_kill(Tekton5, [hammerbgs for _ in range(4)])"
   ]
  },
  {
   "cell_type": "code",
   "execution_count": 5,
   "metadata": {},
   "outputs": [],
   "source": [
    "def bgsrole(npc):\n",
    "    yield scythe\n",
    "    yield bgs\n",
    "    yield bgs\n",
    "    \n",
    "    while True:\n",
    "        yield scythe\n",
    "        \n",
    "def slowbgsrole(npc):\n",
    "    yield scythe\n",
    "    yield scythe\n",
    "    \n",
    "    yield bgs\n",
    "    yield bgs\n",
    "    \n",
    "    while True:\n",
    "        yield scythe\n",
    "        \n",
    "def doublebgs(npc):\n",
    "    yield bgs\n",
    "    yield bgs\n",
    "    while True:\n",
    "        yield scythe"
   ]
  },
  {
   "cell_type": "code",
   "execution_count": 6,
   "metadata": {},
   "outputs": [],
   "source": [
    "hammer_bgs_results = [ticks_to_kill(Tekton3, [hammerbgs for _ in range(3)]) for _ in range(10000)]"
   ]
  },
  {
   "cell_type": "code",
   "execution_count": 7,
   "metadata": {},
   "outputs": [],
   "source": [
    "hammer_hammer_results = [ticks_to_kill(Tekton3, [doublehammer for _ in range(3)]) for _ in range(10000)]"
   ]
  },
  {
   "cell_type": "code",
   "execution_count": 8,
   "metadata": {},
   "outputs": [],
   "source": [
    "mixed_results_1 = [ticks_to_kill(Tekton3, [doublehammer, doublehammer, bgsrole]) for _ in range(10000)]"
   ]
  },
  {
   "cell_type": "code",
   "execution_count": 9,
   "metadata": {},
   "outputs": [],
   "source": [
    "mixed_results_2 = [ticks_to_kill(Tekton3, [doublehammer, hammerbgs, bgsrole]) for _ in range(10000)]"
   ]
  },
  {
   "cell_type": "code",
   "execution_count": 10,
   "metadata": {},
   "outputs": [],
   "source": [
    "all_bgs_results = [ticks_to_kill(Tekton3, [doublebgs for _ in range(3)]) for _ in range(10000)]"
   ]
  },
  {
   "cell_type": "code",
   "execution_count": 11,
   "metadata": {},
   "outputs": [
    {
     "data": {
      "image/png": "[encoded data removed]",
      "text/plain": [
       "<Figure size 432x288 with 1 Axes>"
      ]
     },
     "metadata": {
      "needs_background": "light"
     },
     "output_type": "display_data"
    }
   ],
   "source": [
    "plt.hist(\n",
    "    [hammer_bgs_results, hammer_hammer_results, mixed_results_1, mixed_results_2, all_bgs_results], \n",
    "    label=[\"All Hammer then Bgs\", \"All Double Hammer\", \"Half Bgs Half Hammer\", \"2 hammer 1 both 1 bgs\", \"All Bgs\"], \n",
    "    bins=max(hammer_hammer_results) // 5)\n",
    "plt.xlabel(\"Ticks to Kill\")\n",
    "plt.ylabel(\"Number of Results\")\n",
    "plt.title(\"Ticks to Kill Tekton with 3 Hammer/Bgs\")\n",
    "plt.legend(loc=\"upper right\")\n",
    "plt.show()"
   ]
  },
  {
   "cell_type": "code",
   "execution_count": 12,
   "metadata": {},
   "outputs": [],
   "source": [
    "def is_zero_anvil(ticks):\n",
    "    return ticks <= 42\n",
    "\n",
    "def print_zero_anvil_percent(results, label):\n",
    "    zero_anvils = list(filter(is_zero_anvil, results))\n",
    "    percent = float(len(zero_anvils)) / len(results)\n",
    "    average = sum(results) / len(results)\n",
    "    sorted_results = sorted(results)\n",
    "    median = sorted_results[len(sorted_results) // 2]\n",
    "    print(f\"{label} = {percent * 100}% 0 anvil, \\n average kill = {average} ticks, \\n median kill = {median} ticks\")"
   ]
  },
  {
   "cell_type": "code",
   "execution_count": 14,
   "metadata": {},
   "outputs": [
    {
     "name": "stdout",
     "output_type": "stream",
     "text": [
      "All hammer then bgs = 84.26% 0 anvil, \n",
      " average kill = 33.911 ticks, \n",
      " median kill = 29 ticks\n",
      "All hammer twice = 82.16% 0 anvil, \n",
      " average kill = 35.5645 ticks, \n",
      " median kill = 34 ticks\n",
      "2 dwh 1 bgs = 81.34% 0 anvil, \n",
      " average kill = 35.371 ticks, \n",
      " median kill = 34 ticks\n",
      "1 dwh 1 both 1 bgs = 82.46% 0 anvil, \n",
      " average kill = 34.826 ticks, \n",
      " median kill = 34 ticks\n",
      "All bgs = 78.21000000000001% 0 anvil, \n",
      " average kill = 35.3115 ticks, \n",
      " median kill = 34 ticks\n"
     ]
    }
   ],
   "source": [
    "print_zero_anvil_percent(hammer_bgs_results, \"All hammer then bgs\")\n",
    "print_zero_anvil_percent(hammer_hammer_results, \"All hammer twice\")\n",
    "print_zero_anvil_percent(mixed_results_1, \"2 dwh 1 bgs\")\n",
    "print_zero_anvil_percent(mixed_results_2, \"1 dwh 1 both 1 bgs\")\n",
    "print_zero_anvil_percent(all_bgs_results, \"All bgs\")"
   ]
  },
  {
   "cell_type": "code",
   "execution_count": null,
   "metadata": {},
   "outputs": [],
   "source": [
    "def veng_damage(npc):\n",
    "    damage = 30 * 5 # average dmg * players\n",
    "    \n",
    "    def veng(npc):\n",
    "        npc.hp -= damage\n",
    "        return 3\n",
    "    \n",
    "    while True:\n",
    "        yield veng\n",
    "        yield lambda npc: 3 # tek attack cooldown\n",
    "        yield veng\n",
    "        \n",
    "        # veng cooldown\n",
    "        yield lambda npc: 50\n",
    "\n",
    "cm_players = [veng_damage, doublehammer, doublehammer, bgsrole, bgsrole, slowbgsrole]\n",
    "CmTekton5 = Npc(\n",
    "    name=\"Tekton\",\n",
    "    hp=1350,\n",
    "    defense=287,\n",
    "    defenses=Tekton5.defenses\n",
    ")"
   ]
  },
  {
   "cell_type": "code",
   "execution_count": null,
   "metadata": {},
   "outputs": [],
   "source": [
    "cm_results_3_dwh_2_bgs = [ticks_to_kill(CmTekton5, [veng_damage, doublehammer, doublehammer, doublehammer, bgsrole, slowbgsrole]) for _ in range(10000)]"
   ]
  },
  {
   "cell_type": "code",
   "execution_count": null,
   "metadata": {},
   "outputs": [],
   "source": [
    "cm_results_2_dwh_3_bgs = [ticks_to_kill(CmTekton5, [veng_damage, doublehammer, doublehammer, bgsrole, bgsrole, slowbgsrole]) for _ in range(10000)]"
   ]
  },
  {
   "cell_type": "code",
   "execution_count": null,
   "metadata": {},
   "outputs": [],
   "source": [
    "cm_results_4_dwh_1_bgs = [ticks_to_kill(CmTekton5, [veng_damage, doublehammer, doublehammer, doublehammer, doublehammer, slowbgsrole]) for _ in range(10000)]"
   ]
  },
  {
   "cell_type": "code",
   "execution_count": null,
   "metadata": {},
   "outputs": [],
   "source": [
    "cm_results_all_dwh = [ticks_to_kill(CmTekton5, [veng_damage, doublehammer, doublehammer, doublehammer, doublehammer, doublehammer]) for _ in range(10000)]"
   ]
  },
  {
   "cell_type": "code",
   "execution_count": null,
   "metadata": {},
   "outputs": [],
   "source": [
    "print_zero_anvil_percent(cm_results_3_dwh_2_bgs, \"5 man CM 3 dwh 2 bgs\")\n",
    "print_zero_anvil_percent(cm_results_2_dwh_3_bgs, \"5 man CM 2 dwh 3 bgs\")\n",
    "print_zero_anvil_percent(cm_results_all_dwh, \"5 man CM 5 dwh\")\n",
    "print_zero_anvil_percent(cm_results_4_dwh_1_bgs, \"5 man CM 4 dwh 1 bgs\")"
   ]
  },
  {
   "cell_type": "code",
   "execution_count": null,
   "metadata": {
    "scrolled": false
   },
   "outputs": [],
   "source": [
    "def prune(results):\n",
    "    return list(filter(lambda result: result < 70, results))\n",
    "\n",
    "plt.hist(\n",
    "    list(map(prune, [cm_results_3_dwh_2_bgs, cm_results_2_dwh_3_bgs, cm_results_all_dwh, cm_results_4_dwh_1_bgs])), \n",
    "    label=[\"3 dwh 2 bgs\", \"2 dwh 3 bgs\", \"5 dwh\", \"4 dwh 1 bgs\"], bins=25)\n",
    "plt.xlabel(\"Ticks to Kill\")\n",
    "plt.ylabel(\"Number of Results\")\n",
    "plt.title(\"Ticks to Kill CM Tekton with 5 players\")\n",
    "plt.legend(loc=\"upper right\")\n",
    "plt.show()"
   ]
  },
  {
   "cell_type": "code",
   "execution_count": null,
   "metadata": {},
   "outputs": [],
   "source": []
  }
 ],
 "metadata": {
  "kernelspec": {
   "display_name": "Python 3",
   "language": "python",
   "name": "python3"
  },
  "language_info": {
   "codemirror_mode": {
    "name": "ipython",
    "version": 3
   },
   "file_extension": ".py",
   "mimetype": "text/x-python",
   "name": "python",
   "nbconvert_exporter": "python",
   "pygments_lexer": "ipython3",
   "version": "3.7.3"
  }
 },
 "nbformat": 4,
 "nbformat_minor": 2
}
