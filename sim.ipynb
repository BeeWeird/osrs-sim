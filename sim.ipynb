{
 "cells": [
  {
   "cell_type": "code",
   "execution_count": 1,
   "metadata": {},
   "outputs": [
    {
     "name": "stdout",
     "output_type": "stream",
     "text": [
      "3.7.3\n"
     ]
    }
   ],
   "source": [
    "from platform import python_version\n",
    "\n",
    "print(python_version())\n",
    "\n",
    "from sim import *\n",
    "from npcs import Tekton5\n",
    "import matplotlib\n",
    "import matplotlib.pyplot as plt\n",
    "\n",
    "\n",
    "%matplotlib notebook"
   ]
  },
  {
   "cell_type": "code",
   "execution_count": 2,
   "metadata": {
    "collapsed": true
   },
   "outputs": [],
   "source": [
    "def ticks_to_kill(npc, players):\n",
    "    i = 0\n",
    "    for _ in run(copy(npc), players):\n",
    "        i += 1\n",
    "    return i"
   ]
  },
  {
   "cell_type": "code",
   "execution_count": 3,
   "metadata": {},
   "outputs": [
    {
     "data": {
      "text/plain": [
       "40"
      ]
     },
     "execution_count": 3,
     "metadata": {},
     "output_type": "execute_result"
    }
   ],
   "source": [
    "ticks_to_kill(Tekton5, [hammerbgs for _ in range(4)])"
   ]
  },
  {
   "cell_type": "code",
   "execution_count": 25,
   "metadata": {
    "collapsed": true
   },
   "outputs": [],
   "source": [
    "def bgsrole(npc):\n",
    "    yield scythe\n",
    "    yield lambda npc: 2\n",
    "    yield bgs\n",
    "    yield bgs\n",
    "    \n",
    "    while True:\n",
    "        yield scythe"
   ]
  },
  {
   "cell_type": "code",
   "execution_count": 51,
   "metadata": {},
   "outputs": [],
   "source": [
    "hammer_bgs_results = [ticks_to_kill(Tekton5, [hammerbgs for _ in range(4)]) for _ in range(10000)]"
   ]
  },
  {
   "cell_type": "code",
   "execution_count": 52,
   "metadata": {
    "collapsed": true
   },
   "outputs": [],
   "source": [
    "hammer_hammer_results = [ticks_to_kill(Tekton5, [doublehammer for _ in range(4)]) for _ in range(10000)]"
   ]
  },
  {
   "cell_type": "code",
   "execution_count": 53,
   "metadata": {},
   "outputs": [],
   "source": [
    "mixed_results_1 = [ticks_to_kill(Tekton5, [doublehammer, doublehammer, bgsrole, bgsrole]) for _ in range(10000)]"
   ]
  },
  {
   "cell_type": "code",
   "execution_count": 54,
   "metadata": {},
   "outputs": [
    {
     "data": {
      "image/png": "[encoded data removed]",
      "text/plain": [
       "<Figure size 432x288 with 1 Axes>"
      ]
     },
     "metadata": {
      "needs_background": "light"
     },
     "output_type": "display_data"
    }
   ],
   "source": [
    "plt.hist(\n",
    "    [hammer_bgs_results, hammer_hammer_results, mixed_results_1], \n",
    "    label=[\"All Hammer then Bgs\", \"All Double Hammer\", \"Half Bgs Half Hammer\"], \n",
    "    bins=max(hammer_hammer_results) // 5)\n",
    "plt.xlabel(\"Ticks to Kill\")\n",
    "plt.ylabel(\"Number of Results\")\n",
    "plt.title(\"Ticks to Kill Tekton with 4 Hammer/Bgs\")\n",
    "plt.legend(loc=\"upper right\")\n",
    "plt.show()"
   ]
  },
  {
   "cell_type": "code",
   "execution_count": 57,
   "metadata": {
    "collapsed": true
   },
   "outputs": [],
   "source": [
    "def is_zero_anvil(ticks):\n",
    "    return ticks <= 55\n",
    "\n",
    "def print_zero_anvil_percent(results, label):\n",
    "    zero_anvils = list(filter(is_zero_anvil, results))\n",
    "    percent = float(len(zero_anvils)) / len(results)\n",
    "    average = sum(results) / len(results)\n",
    "    sorted_results = sorted(results)\n",
    "    median = sorted_results[len(sorted_results) // 2]\n",
    "    print(f\"{label} = {percent * 100}% 0 anvil, average kill = {average} ticks, median kill = {median}\")"
   ]
  },
  {
   "cell_type": "code",
   "execution_count": 58,
   "metadata": {},
   "outputs": [
    {
     "name": "stdout",
     "output_type": "stream",
     "text": [
      "All hammer then bgs = 94.61% 0 anvil, average kill = 37.1655 ticks, median kill = 35\n",
      "All hammer twice = 95.30999999999999% 0 anvil, average kill = 38.2275 ticks, median kill = 34\n",
      "Mixed 1 = 92.58% 0 anvil, average kill = 39.8325 ticks, median kill = 38\n"
     ]
    }
   ],
   "source": [
    "print_zero_anvil_percent(hammer_bgs_results, \"All hammer then bgs\")\n",
    "print_zero_anvil_percent(hammer_hammer_results, \"All hammer twice\")\n",
    "print_zero_anvil_percent(mixed_results_1, \"Mixed 1\")"
   ]
  },
  {
   "cell_type": "code",
   "execution_count": null,
   "metadata": {
    "collapsed": true
   },
   "outputs": [],
   "source": []
  }
 ],
 "metadata": {
  "kernelspec": {
   "display_name": "Python 3",
   "language": "python",
   "name": "python3"
  },
  "language_info": {
   "codemirror_mode": {
    "name": "ipython",
    "version": 3
   },
   "file_extension": ".py",
   "mimetype": "text/x-python",
   "name": "python",
   "nbconvert_exporter": "python",
   "pygments_lexer": "ipython3",
   "version": "3.7.3"
  }
 },
 "nbformat": 4,
 "nbformat_minor": 2
}
